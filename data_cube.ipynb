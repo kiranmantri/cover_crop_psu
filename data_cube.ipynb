{
 "cells": [
  {
   "cell_type": "code",
   "execution_count": null,
   "metadata": {},
   "outputs": [],
   "source": [
    "%load_ext autoreload\n",
    "%autoreload 2\n",
    "\n",
    "import numpy as np\n",
    "import pandas as pd\n",
    "import scipy.io\n",
    "\n",
    "\n",
    "import plotly.express as px\n",
    "import matplotlib.pyplot as plt\n",
    "\n",
    "xls = pd.ExcelFile('cc_spectral_signature.xlsx')\n",
    "print(xls.sheet_names)\n",
    "\n",
    "df = pd.read_excel(io='cc_spectral_signature.xlsx', sheet_name='Average Spectra')\n",
    "del df['Unnamed: 0']\n",
    "display(df.describe())\n",
    "\n",
    "df = df.apply(func=lambda e: (e - np.min(e)) / (np.max(e) - np.min(e)), axis=0)\n",
    "display(df.describe())\n"
   ]
  },
  {
   "cell_type": "code",
   "execution_count": null,
   "metadata": {},
   "outputs": [],
   "source": [
    "fig = px.line(data_frame=df)\n",
    "fig"
   ]
  },
  {
   "cell_type": "code",
   "execution_count": null,
   "metadata": {},
   "outputs": [],
   "source": [
    "from hsi_datasets import plot_datacube_image\n",
    "from hsi_datasets import datacube_generator\n",
    "\n",
    "endmembers = df.values.T\n",
    "\n",
    "\n",
    "for seq in range(0,10):    \n",
    "    file_name = f\"abundances/abundances_gaussianfields_spheric_5em_16x16_{(seq+1):03}.mat\"\n",
    "    print(file_name)\n",
    "    matfile = scipy.io.loadmat(file_name)    \n",
    "    abundances = matfile['abundances']\n",
    "\n",
    "    fig, axs = plt.subplots(1,5, figsize=(20,10))\n",
    "    for endmember_num in range(0,5):\n",
    "        axs[endmember_num].imshow(abundances[...,endmember_num])        \n",
    "        axs[endmember_num].set_axis_off()    \n",
    "    plt.tight_layout()\n",
    "    plt.show()\n",
    "\n",
    "    # -------\n",
    "    \n",
    "    results = datacube_generator(endmembers_names=list(df.columns), endmembers_spectra=endmembers, abundances_tensor=abundances)\n",
    "    datacube, abundances_tensor, endmembers_spectra, endmembers_names = results\n",
    "\n",
    "    outputfile = f\"datacube_{seq:03}.png\"\n",
    "    fig = plot_datacube_image(\n",
    "        datacube=datacube, \n",
    "        outputfile=outputfile, \n",
    "        showfigure=True, \n",
    "        reduce_factors=(1,1,1)\n",
    "    )"
   ]
  },
  {
   "cell_type": "code",
   "execution_count": null,
   "metadata": {},
   "outputs": [],
   "source": []
  },
  {
   "cell_type": "code",
   "execution_count": null,
   "metadata": {},
   "outputs": [],
   "source": []
  }
 ],
 "metadata": {
  "interpreter": {
   "hash": "8b773719d19ddbffb84f3c3b6f3b9c16c4f71455bbaa72dc1feabd92fae370a7"
  },
  "kernelspec": {
   "display_name": "Python 3.10.4 ('python3.10')",
   "language": "python",
   "name": "python3"
  },
  "language_info": {
   "codemirror_mode": {
    "name": "ipython",
    "version": 3
   },
   "file_extension": ".py",
   "mimetype": "text/x-python",
   "name": "python",
   "nbconvert_exporter": "python",
   "pygments_lexer": "ipython3",
   "version": "3.10.4"
  },
  "orig_nbformat": 4
 },
 "nbformat": 4,
 "nbformat_minor": 2
}
